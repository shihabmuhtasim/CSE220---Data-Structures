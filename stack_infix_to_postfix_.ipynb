{
  "cells": [
    {
      "cell_type": "code",
      "source": [
        "# infix to postfix\n",
        "class Node:\n",
        "    def __init__(self, elem, nxt):\n",
        "        self.elem = elem\n",
        "        self.next = nxt\n",
        "\n",
        "class Stack:\n",
        "    def __init__(self):\n",
        "        self.top = None\n",
        "\n",
        "    def push(self, elem):\n",
        "        if self.top == None:\n",
        "            self.top = Node(elem, None)\n",
        "        else:\n",
        "            n = Node(elem, self.top)\n",
        "            self.top = n\n",
        "\n",
        "    def pop(self):\n",
        "        if self.top == None:\n",
        "            return \"Underflow\"\n",
        "        else:\n",
        "            temp = self.top.elem\n",
        "            self.top = self.top.next\n",
        "            return temp\n",
        "\n",
        "    def peek(self):\n",
        "        if self.top == None:\n",
        "            return \"Underflow\"\n",
        "        else:\n",
        "            return self.top.elem\n",
        "\n",
        "    def priority(self, op):\n",
        "        if op == '^':\n",
        "            return 3\n",
        "        elif op == '*' or op == '/':\n",
        "            return 2\n",
        "        elif op == '+' or op == '-':\n",
        "            return 1\n",
        "        else:\n",
        "            return 0\n",
        "\n",
        "s = Stack()\n",
        "giv = input(\"Please enter the infix:\")  #\"K+L-M*N+(O^P)*W/U/N*T+Q\"\n",
        "final = ''\n",
        "for i in giv:\n",
        "    if ord(\"A\") <= ord(i) <= ord(\"Z\") or ord(\"a\") <= ord(i) <= ord(\"z\"):\n",
        "        final += i\n",
        "    elif i in \"+-*^/()\":  # operators and parenthesis\n",
        "        if i == '(':\n",
        "            s.push(i)\n",
        "        elif i == ')':\n",
        "            while s.peek() != '(':\n",
        "                final += s.pop()\n",
        "            s.pop()\n",
        "        else:\n",
        "            while s.peek() != \"Underflow\" and s.peek() != '(' and s.priority(i) <= s.priority(s.peek()):\n",
        "                final += s.pop()\n",
        "            s.push(i)\n",
        "\n",
        "while s.peek() != \"Underflow\":\n",
        "    final += s.pop()\n",
        "\n",
        "print(\"Postfix: \",final)\n"
      ],
      "metadata": {
        "colab": {
          "base_uri": "https://localhost:8080/"
        },
        "id": "nioh29SvGJp1",
        "outputId": "543472f5-9104-4944-dc61-d14660153a54"
      },
      "id": "nioh29SvGJp1",
      "execution_count": 8,
      "outputs": [
        {
          "output_type": "stream",
          "name": "stdout",
          "text": [
            "Please enter the infix:K+L-M*N+(O^P)*W/U/N*T+Q\n",
            "Postfix:  KL+MN*-OP^W*U/N/T*+Q+\n"
          ]
        }
      ]
    }
  ],
  "metadata": {
    "kernelspec": {
      "display_name": "Python 3",
      "language": "python",
      "name": "python3"
    },
    "language_info": {
      "codemirror_mode": {
        "name": "ipython",
        "version": 3
      },
      "file_extension": ".py",
      "mimetype": "text/x-python",
      "name": "python",
      "nbconvert_exporter": "python",
      "pygments_lexer": "ipython3",
      "version": "3.8.8"
    },
    "colab": {
      "provenance": []
    }
  },
  "nbformat": 4,
  "nbformat_minor": 5
}